{
 "cells": [
  {
   "cell_type": "markdown",
   "metadata": {},
   "source": [
    "Working with DuckDB in Python via ibis"
   ]
  },
  {
   "cell_type": "code",
   "execution_count": 1,
   "metadata": {},
   "outputs": [],
   "source": [
    "import sqlparse #To make the SQL prettier\n",
    "import duckdb #Backend\n",
    "import ibis #Data API\n",
    "\n",
    "#Extra code to automatically run and return queries\n",
    "# ibis.options.interactive = True"
   ]
  },
  {
   "cell_type": "code",
   "execution_count": 2,
   "metadata": {},
   "outputs": [],
   "source": [
    "# Define the database file\n",
    "db_file = \"data/database/example.duckdb\"\n",
    "\n",
    "# Connect to the DuckDB file\n",
    "conn = ibis.duckdb.connect(database = db_file)"
   ]
  },
  {
   "cell_type": "code",
   "execution_count": 3,
   "metadata": {},
   "outputs": [
    {
     "name": "stdout",
     "output_type": "stream",
     "text": [
      "['CROP_DATA', 'DAILY_FX', 'FARM_PRICES', 'MONTHLY_FX']\n"
     ]
    }
   ],
   "source": [
    "# List tables in the database\n",
    "tables = conn.list_tables()\n",
    "print(tables)"
   ]
  },
  {
   "cell_type": "code",
   "execution_count": 4,
   "metadata": {},
   "outputs": [],
   "source": [
    "# Access tables using ibis\n",
    "daily_fx = conn.table(\"DAILY_FX\")\n",
    "farm_prices = conn.table(\"FARM_PRICES\")"
   ]
  },
  {
   "cell_type": "code",
   "execution_count": 5,
   "metadata": {},
   "outputs": [
    {
     "name": "stdout",
     "output_type": "stream",
     "text": [
      "DatabaseTable: DAILY_FX\n",
      "  DFX_ID   float64\n",
      "  DATE     date\n",
      "  FXUSDCAD float64\n",
      "DatabaseTable: FARM_PRICES\n",
      "  CD_ID        float64\n",
      "  DATE         date\n",
      "  CROP_TYPE    string\n",
      "  GEO          string\n",
      "  PRICE_PRERMT float64\n"
     ]
    }
   ],
   "source": [
    "# Show the table structure\n",
    "print(daily_fx)\n",
    "print(farm_prices)"
   ]
  },
  {
   "cell_type": "code",
   "execution_count": 6,
   "metadata": {},
   "outputs": [
    {
     "name": "stdout",
     "output_type": "stream",
     "text": [
      "   DFX_ID        DATE  FXUSDCAD\n",
      "0     0.0  2017-01-03    1.3435\n",
      "1     1.0  2017-01-04    1.3315\n",
      "2     2.0  2017-01-05    1.3244\n",
      "3     3.0  2017-01-06    1.3214\n",
      "4     4.0  2017-01-09    1.3240\n",
      "   CD_ID        DATE CROP_TYPE           GEO  PRICE_PRERMT\n",
      "0    0.0  1985-01-01    Barley       Alberta        127.39\n",
      "1    1.0  1985-01-01    Barley  Saskatchewan        121.38\n",
      "2    2.0  1985-01-01    Canola       Alberta        342.00\n",
      "3    3.0  1985-01-01    Canola  Saskatchewan        339.82\n",
      "4    4.0  1985-01-01       Rye       Alberta        100.77\n"
     ]
    }
   ],
   "source": [
    "# Show some table data\n",
    "print(daily_fx.execute().head(5))\n",
    "print(farm_prices.execute().head(5))"
   ]
  },
  {
   "cell_type": "code",
   "execution_count": 7,
   "metadata": {},
   "outputs": [
    {
     "name": "stdout",
     "output_type": "stream",
     "text": [
      "SELECT t2.DFX_ID,\n",
      "       t2.DATE,\n",
      "       t2.FXUSDCAD,\n",
      "       t3.CD_ID,\n",
      "       t3.CROP_TYPE,\n",
      "       t3.GEO,\n",
      "       t3.PRICE_PRERMT\n",
      "FROM DAILY_FX AS t2\n",
      "INNER JOIN FARM_PRICES AS t3 ON t2.DATE = t3.DATE\n"
     ]
    }
   ],
   "source": [
    "# Join data and print the SQL statement used\n",
    "#daily_fx.join??\n",
    "joined_table = daily_fx.join(farm_prices, \"DATE\", how = \"inner\")\n",
    "\n",
    "# Compile the query to SQL (similar to `show_query()` in R)\n",
    "sql_str = sqlparse.format( #Format the SQL\n",
    "    (joined_table.\n",
    "        compile() #Get the SQL\n",
    "        .replace('\"', '')), #Make it friendlier to human eyes\n",
    "    reindent = True, \n",
    "    keyword_case = 'upper'\n",
    ")\n",
    "\n",
    "print(sql_str)"
   ]
  },
  {
   "cell_type": "code",
   "execution_count": 8,
   "metadata": {},
   "outputs": [
    {
     "name": "stdout",
     "output_type": "stream",
     "text": [
      "   DFX_ID        DATE  FXUSDCAD   CD_ID CROP_TYPE           GEO  PRICE_PRERMT\n",
      "0    21.0  2017-02-01    1.3074  2331.0    Barley       Alberta        217.95\n",
      "1    21.0  2017-02-01    1.3074  2332.0    Barley  Saskatchewan        207.77\n",
      "2    21.0  2017-02-01    1.3074  2333.0    Canola       Alberta        492.53\n",
      "3    21.0  2017-02-01    1.3074  2334.0    Canola  Saskatchewan        494.45\n",
      "4    21.0  2017-02-01    1.3074  2335.0       Rye  Saskatchewan        142.36\n"
     ]
    }
   ],
   "source": [
    "# Execute the query and fetch the first 5 rows\n",
    "print(joined_table.execute().head(5))"
   ]
  },
  {
   "cell_type": "code",
   "execution_count": 9,
   "metadata": {},
   "outputs": [],
   "source": [
    "#Close the connection to the database\n",
    "conn.disconnect()"
   ]
  }
 ],
 "metadata": {
  "language_info": {
   "name": "python"
  }
 },
 "nbformat": 4,
 "nbformat_minor": 2
}
